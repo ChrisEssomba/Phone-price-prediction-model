{
 "cells": [
  {
   "cell_type": "code",
   "execution_count": 30,
   "metadata": {},
   "outputs": [],
   "source": [
    "import pandas as pd\n",
    "import seaborn as sns\n",
    "import numpy as np\n",
    "import matplotlib.pyplot as plt\n"
   ]
  },
  {
   "cell_type": "markdown",
   "metadata": {},
   "source": [
    "## DATA EXPLORATION"
   ]
  },
  {
   "cell_type": "code",
   "execution_count": 31,
   "metadata": {},
   "outputs": [
    {
     "data": {
      "text/html": [
       "<div>\n",
       "<style scoped>\n",
       "    .dataframe tbody tr th:only-of-type {\n",
       "        vertical-align: middle;\n",
       "    }\n",
       "\n",
       "    .dataframe tbody tr th {\n",
       "        vertical-align: top;\n",
       "    }\n",
       "\n",
       "    .dataframe thead th {\n",
       "        text-align: right;\n",
       "    }\n",
       "</style>\n",
       "<table border=\"1\" class=\"dataframe\">\n",
       "  <thead>\n",
       "    <tr style=\"text-align: right;\">\n",
       "      <th></th>\n",
       "      <th>device_brand</th>\n",
       "      <th>os</th>\n",
       "      <th>screen_size</th>\n",
       "      <th>4g</th>\n",
       "      <th>5g</th>\n",
       "      <th>rear_camera_mp</th>\n",
       "      <th>front_camera_mp</th>\n",
       "      <th>internal_memory</th>\n",
       "      <th>ram</th>\n",
       "      <th>battery</th>\n",
       "      <th>weight</th>\n",
       "      <th>release_year</th>\n",
       "      <th>days_used</th>\n",
       "      <th>normalized_used_price</th>\n",
       "      <th>normalized_new_price</th>\n",
       "    </tr>\n",
       "  </thead>\n",
       "  <tbody>\n",
       "    <tr>\n",
       "      <th>0</th>\n",
       "      <td>Honor</td>\n",
       "      <td>Android</td>\n",
       "      <td>14.50</td>\n",
       "      <td>yes</td>\n",
       "      <td>no</td>\n",
       "      <td>13.0</td>\n",
       "      <td>5.0</td>\n",
       "      <td>64.0</td>\n",
       "      <td>3.0</td>\n",
       "      <td>3020.0</td>\n",
       "      <td>146.0</td>\n",
       "      <td>2020</td>\n",
       "      <td>127</td>\n",
       "      <td>4.307572</td>\n",
       "      <td>4.715100</td>\n",
       "    </tr>\n",
       "    <tr>\n",
       "      <th>1</th>\n",
       "      <td>Honor</td>\n",
       "      <td>Android</td>\n",
       "      <td>17.30</td>\n",
       "      <td>yes</td>\n",
       "      <td>yes</td>\n",
       "      <td>13.0</td>\n",
       "      <td>16.0</td>\n",
       "      <td>128.0</td>\n",
       "      <td>8.0</td>\n",
       "      <td>4300.0</td>\n",
       "      <td>213.0</td>\n",
       "      <td>2020</td>\n",
       "      <td>325</td>\n",
       "      <td>5.162097</td>\n",
       "      <td>5.519018</td>\n",
       "    </tr>\n",
       "    <tr>\n",
       "      <th>2</th>\n",
       "      <td>Honor</td>\n",
       "      <td>Android</td>\n",
       "      <td>16.69</td>\n",
       "      <td>yes</td>\n",
       "      <td>yes</td>\n",
       "      <td>13.0</td>\n",
       "      <td>8.0</td>\n",
       "      <td>128.0</td>\n",
       "      <td>8.0</td>\n",
       "      <td>4200.0</td>\n",
       "      <td>213.0</td>\n",
       "      <td>2020</td>\n",
       "      <td>162</td>\n",
       "      <td>5.111084</td>\n",
       "      <td>5.884631</td>\n",
       "    </tr>\n",
       "    <tr>\n",
       "      <th>3</th>\n",
       "      <td>Honor</td>\n",
       "      <td>Android</td>\n",
       "      <td>25.50</td>\n",
       "      <td>yes</td>\n",
       "      <td>yes</td>\n",
       "      <td>13.0</td>\n",
       "      <td>8.0</td>\n",
       "      <td>64.0</td>\n",
       "      <td>6.0</td>\n",
       "      <td>7250.0</td>\n",
       "      <td>480.0</td>\n",
       "      <td>2020</td>\n",
       "      <td>345</td>\n",
       "      <td>5.135387</td>\n",
       "      <td>5.630961</td>\n",
       "    </tr>\n",
       "    <tr>\n",
       "      <th>4</th>\n",
       "      <td>Honor</td>\n",
       "      <td>Android</td>\n",
       "      <td>15.32</td>\n",
       "      <td>yes</td>\n",
       "      <td>no</td>\n",
       "      <td>13.0</td>\n",
       "      <td>8.0</td>\n",
       "      <td>64.0</td>\n",
       "      <td>3.0</td>\n",
       "      <td>5000.0</td>\n",
       "      <td>185.0</td>\n",
       "      <td>2020</td>\n",
       "      <td>293</td>\n",
       "      <td>4.389995</td>\n",
       "      <td>4.947837</td>\n",
       "    </tr>\n",
       "  </tbody>\n",
       "</table>\n",
       "</div>"
      ],
      "text/plain": [
       "  device_brand       os  screen_size   4g   5g  rear_camera_mp  \\\n",
       "0        Honor  Android        14.50  yes   no            13.0   \n",
       "1        Honor  Android        17.30  yes  yes            13.0   \n",
       "2        Honor  Android        16.69  yes  yes            13.0   \n",
       "3        Honor  Android        25.50  yes  yes            13.0   \n",
       "4        Honor  Android        15.32  yes   no            13.0   \n",
       "\n",
       "   front_camera_mp  internal_memory  ram  battery  weight  release_year  \\\n",
       "0              5.0             64.0  3.0   3020.0   146.0          2020   \n",
       "1             16.0            128.0  8.0   4300.0   213.0          2020   \n",
       "2              8.0            128.0  8.0   4200.0   213.0          2020   \n",
       "3              8.0             64.0  6.0   7250.0   480.0          2020   \n",
       "4              8.0             64.0  3.0   5000.0   185.0          2020   \n",
       "\n",
       "   days_used  normalized_used_price  normalized_new_price  \n",
       "0        127               4.307572              4.715100  \n",
       "1        325               5.162097              5.519018  \n",
       "2        162               5.111084              5.884631  \n",
       "3        345               5.135387              5.630961  \n",
       "4        293               4.389995              4.947837  "
      ]
     },
     "execution_count": 31,
     "metadata": {},
     "output_type": "execute_result"
    }
   ],
   "source": [
    "#1 We load the data\n",
    "df = pd.read_csv('dataset.csv', delimiter=';')\n",
    "df.head()"
   ]
  },
  {
   "cell_type": "code",
   "execution_count": 32,
   "metadata": {},
   "outputs": [
    {
     "name": "stdout",
     "output_type": "stream",
     "text": [
      "['Honor' 'Others' 'HTC' 'Huawei' 'Infinix' 'Lava' 'Lenovo' 'LG' 'Meizu'\n",
      " 'Micromax' 'Motorola' 'Nokia' 'OnePlus' 'Oppo' 'Realme' 'Samsung' 'Vivo'\n",
      " 'Xiaomi' 'ZTE' 'Apple' 'Asus' 'Coolpad' 'Acer' 'Alcatel' 'BlackBerry'\n",
      " 'Celkon' 'Gionee' 'Google' 'Karbonn' 'Microsoft' 'Panasonic' 'Sony'\n",
      " 'Spice' 'XOLO']\n",
      "['Android' 'Others' 'iOS' 'Windows']\n",
      "['yes' 'no']\n",
      "['no' 'yes']\n"
     ]
    }
   ],
   "source": [
    "for i in df.select_dtypes(include='object'): \n",
    "    print(df[i].unique())"
   ]
  },
  {
   "cell_type": "code",
   "execution_count": 33,
   "metadata": {},
   "outputs": [
    {
     "name": "stdout",
     "output_type": "stream",
     "text": [
      "<class 'pandas.core.frame.DataFrame'>\n",
      "RangeIndex: 3454 entries, 0 to 3453\n",
      "Data columns (total 15 columns):\n",
      " #   Column                 Non-Null Count  Dtype  \n",
      "---  ------                 --------------  -----  \n",
      " 0   device_brand           3454 non-null   object \n",
      " 1   os                     3454 non-null   object \n",
      " 2   screen_size            3454 non-null   float64\n",
      " 3   4g                     3454 non-null   object \n",
      " 4   5g                     3454 non-null   object \n",
      " 5   rear_camera_mp         3275 non-null   float64\n",
      " 6   front_camera_mp        3452 non-null   float64\n",
      " 7   internal_memory        3450 non-null   float64\n",
      " 8   ram                    3450 non-null   float64\n",
      " 9   battery                3447 non-null   float64\n",
      " 10  weight                 3447 non-null   float64\n",
      " 11  release_year           3454 non-null   int64  \n",
      " 12  days_used              3454 non-null   int64  \n",
      " 13  normalized_used_price  3454 non-null   float64\n",
      " 14  normalized_new_price   3454 non-null   float64\n",
      "dtypes: float64(9), int64(2), object(4)\n",
      "memory usage: 404.9+ KB\n"
     ]
    }
   ],
   "source": [
    "#We try undersstand its structure\n",
    "df.shape\n",
    "df.info()\n"
   ]
  },
  {
   "cell_type": "markdown",
   "metadata": {},
   "source": [
    "We can see that all the columns don't have the same number of value, so there must have none value that we'll have to handle"
   ]
  },
  {
   "cell_type": "code",
   "execution_count": 34,
   "metadata": {},
   "outputs": [
    {
     "data": {
      "text/html": [
       "<div>\n",
       "<style scoped>\n",
       "    .dataframe tbody tr th:only-of-type {\n",
       "        vertical-align: middle;\n",
       "    }\n",
       "\n",
       "    .dataframe tbody tr th {\n",
       "        vertical-align: top;\n",
       "    }\n",
       "\n",
       "    .dataframe thead th {\n",
       "        text-align: right;\n",
       "    }\n",
       "</style>\n",
       "<table border=\"1\" class=\"dataframe\">\n",
       "  <thead>\n",
       "    <tr style=\"text-align: right;\">\n",
       "      <th></th>\n",
       "      <th>screen_size</th>\n",
       "      <th>rear_camera_mp</th>\n",
       "      <th>front_camera_mp</th>\n",
       "      <th>internal_memory</th>\n",
       "      <th>ram</th>\n",
       "      <th>battery</th>\n",
       "      <th>weight</th>\n",
       "      <th>release_year</th>\n",
       "      <th>days_used</th>\n",
       "      <th>normalized_used_price</th>\n",
       "      <th>normalized_new_price</th>\n",
       "    </tr>\n",
       "  </thead>\n",
       "  <tbody>\n",
       "    <tr>\n",
       "      <th>count</th>\n",
       "      <td>3454.000000</td>\n",
       "      <td>3275.000000</td>\n",
       "      <td>3452.000000</td>\n",
       "      <td>3450.000000</td>\n",
       "      <td>3450.000000</td>\n",
       "      <td>3447.000000</td>\n",
       "      <td>3447.000000</td>\n",
       "      <td>3454.000000</td>\n",
       "      <td>3454.000000</td>\n",
       "      <td>3454.000000</td>\n",
       "      <td>3454.000000</td>\n",
       "    </tr>\n",
       "    <tr>\n",
       "      <th>mean</th>\n",
       "      <td>13.713115</td>\n",
       "      <td>9.460208</td>\n",
       "      <td>6.554229</td>\n",
       "      <td>54.573099</td>\n",
       "      <td>4.036122</td>\n",
       "      <td>3132.637656</td>\n",
       "      <td>182.751871</td>\n",
       "      <td>2015.965258</td>\n",
       "      <td>674.869716</td>\n",
       "      <td>436.471208</td>\n",
       "      <td>523.310717</td>\n",
       "    </tr>\n",
       "    <tr>\n",
       "      <th>std</th>\n",
       "      <td>3.805280</td>\n",
       "      <td>4.815461</td>\n",
       "      <td>6.970372</td>\n",
       "      <td>84.972371</td>\n",
       "      <td>1.365105</td>\n",
       "      <td>1299.094692</td>\n",
       "      <td>88.413228</td>\n",
       "      <td>2.298455</td>\n",
       "      <td>248.580166</td>\n",
       "      <td>58.891362</td>\n",
       "      <td>68.363684</td>\n",
       "    </tr>\n",
       "    <tr>\n",
       "      <th>min</th>\n",
       "      <td>5.080000</td>\n",
       "      <td>0.080000</td>\n",
       "      <td>0.000000</td>\n",
       "      <td>0.010000</td>\n",
       "      <td>0.020000</td>\n",
       "      <td>500.000000</td>\n",
       "      <td>69.000000</td>\n",
       "      <td>2013.000000</td>\n",
       "      <td>91.000000</td>\n",
       "      <td>153.686722</td>\n",
       "      <td>290.142159</td>\n",
       "    </tr>\n",
       "    <tr>\n",
       "      <th>25%</th>\n",
       "      <td>12.700000</td>\n",
       "      <td>5.000000</td>\n",
       "      <td>2.000000</td>\n",
       "      <td>16.000000</td>\n",
       "      <td>4.000000</td>\n",
       "      <td>2100.000000</td>\n",
       "      <td>142.000000</td>\n",
       "      <td>2014.000000</td>\n",
       "      <td>533.500000</td>\n",
       "      <td>403.393085</td>\n",
       "      <td>479.034184</td>\n",
       "    </tr>\n",
       "    <tr>\n",
       "      <th>50%</th>\n",
       "      <td>12.830000</td>\n",
       "      <td>8.000000</td>\n",
       "      <td>5.000000</td>\n",
       "      <td>32.000000</td>\n",
       "      <td>4.000000</td>\n",
       "      <td>3000.000000</td>\n",
       "      <td>160.000000</td>\n",
       "      <td>2015.500000</td>\n",
       "      <td>690.500000</td>\n",
       "      <td>440.513262</td>\n",
       "      <td>524.589185</td>\n",
       "    </tr>\n",
       "    <tr>\n",
       "      <th>75%</th>\n",
       "      <td>15.340000</td>\n",
       "      <td>13.000000</td>\n",
       "      <td>8.000000</td>\n",
       "      <td>64.000000</td>\n",
       "      <td>4.000000</td>\n",
       "      <td>4000.000000</td>\n",
       "      <td>185.000000</td>\n",
       "      <td>2018.000000</td>\n",
       "      <td>868.750000</td>\n",
       "      <td>475.570001</td>\n",
       "      <td>567.371825</td>\n",
       "    </tr>\n",
       "    <tr>\n",
       "      <th>max</th>\n",
       "      <td>30.710000</td>\n",
       "      <td>48.000000</td>\n",
       "      <td>32.000000</td>\n",
       "      <td>1024.000000</td>\n",
       "      <td>12.000000</td>\n",
       "      <td>9720.000000</td>\n",
       "      <td>855.000000</td>\n",
       "      <td>2020.000000</td>\n",
       "      <td>1094.000000</td>\n",
       "      <td>661.943300</td>\n",
       "      <td>784.784066</td>\n",
       "    </tr>\n",
       "  </tbody>\n",
       "</table>\n",
       "</div>"
      ],
      "text/plain": [
       "       screen_size  rear_camera_mp  front_camera_mp  internal_memory  \\\n",
       "count  3454.000000     3275.000000      3452.000000      3450.000000   \n",
       "mean     13.713115        9.460208         6.554229        54.573099   \n",
       "std       3.805280        4.815461         6.970372        84.972371   \n",
       "min       5.080000        0.080000         0.000000         0.010000   \n",
       "25%      12.700000        5.000000         2.000000        16.000000   \n",
       "50%      12.830000        8.000000         5.000000        32.000000   \n",
       "75%      15.340000       13.000000         8.000000        64.000000   \n",
       "max      30.710000       48.000000        32.000000      1024.000000   \n",
       "\n",
       "               ram      battery       weight  release_year    days_used  \\\n",
       "count  3450.000000  3447.000000  3447.000000   3454.000000  3454.000000   \n",
       "mean      4.036122  3132.637656   182.751871   2015.965258   674.869716   \n",
       "std       1.365105  1299.094692    88.413228      2.298455   248.580166   \n",
       "min       0.020000   500.000000    69.000000   2013.000000    91.000000   \n",
       "25%       4.000000  2100.000000   142.000000   2014.000000   533.500000   \n",
       "50%       4.000000  3000.000000   160.000000   2015.500000   690.500000   \n",
       "75%       4.000000  4000.000000   185.000000   2018.000000   868.750000   \n",
       "max      12.000000  9720.000000   855.000000   2020.000000  1094.000000   \n",
       "\n",
       "       normalized_used_price  normalized_new_price  \n",
       "count            3454.000000           3454.000000  \n",
       "mean              436.471208            523.310717  \n",
       "std                58.891362             68.363684  \n",
       "min               153.686722            290.142159  \n",
       "25%               403.393085            479.034184  \n",
       "50%               440.513262            524.589185  \n",
       "75%               475.570001            567.371825  \n",
       "max               661.943300            784.784066  "
      ]
     },
     "execution_count": 34,
     "metadata": {},
     "output_type": "execute_result"
    }
   ],
   "source": [
    "#3 Initial Exploration\n",
    "#Let's analyze numeric values\n",
    "df['normalized_new_price'] = 100*df['normalized_new_price']\n",
    "df['normalized_used_price'] *= 100\n",
    "df.describe()"
   ]
  },
  {
   "cell_type": "markdown",
   "metadata": {},
   "source": []
  },
  {
   "cell_type": "markdown",
   "metadata": {},
   "source": [
    "Observing this table we can notice some values that seem abnormal such as : \n",
    "min values of : rear_camera_mp\tfront_camera_mp\tinternal_memory and ram\t\n",
    "In order to confirm our assumption, we're going to see later if these values are outliers or not"
   ]
  },
  {
   "cell_type": "code",
   "execution_count": 35,
   "metadata": {},
   "outputs": [
    {
     "data": {
      "text/plain": [
       "device_brand               0\n",
       "os                         0\n",
       "screen_size                0\n",
       "4g                         0\n",
       "5g                         0\n",
       "rear_camera_mp           179\n",
       "front_camera_mp            2\n",
       "internal_memory            4\n",
       "ram                        4\n",
       "battery                    7\n",
       "weight                     7\n",
       "release_year               0\n",
       "days_used                  0\n",
       "normalized_used_price      0\n",
       "normalized_new_price       0\n",
       "dtype: int64"
      ]
     },
     "execution_count": 35,
     "metadata": {},
     "output_type": "execute_result"
    }
   ],
   "source": [
    "#4 Let's look for missing values in each column\n",
    "df.isnull().sum()"
   ]
  },
  {
   "cell_type": "code",
   "execution_count": 36,
   "metadata": {},
   "outputs": [
    {
     "name": "stdout",
     "output_type": "stream",
     "text": [
      "Unique values for each categorical column:\n",
      "Column: device_brand : ['Honor' 'Others' 'HTC' 'Huawei' 'Infinix' 'Lava' 'Lenovo' 'LG' 'Meizu'\n",
      " 'Micromax' 'Motorola' 'Nokia' 'OnePlus' 'Oppo' 'Realme' 'Samsung' 'Vivo'\n",
      " 'Xiaomi' 'ZTE' 'Apple' 'Asus' 'Coolpad' 'Acer' 'Alcatel' 'BlackBerry'\n",
      " 'Celkon' 'Gionee' 'Google' 'Karbonn' 'Microsoft' 'Panasonic' 'Sony'\n",
      " 'Spice' 'XOLO'] \n",
      "\n",
      "Column: os : ['Android' 'Others' 'iOS' 'Windows'] \n",
      "\n",
      "Column: 4g : ['yes' 'no'] \n",
      "\n",
      "Column: 5g : ['no' 'yes'] \n",
      "\n"
     ]
    }
   ],
   "source": [
    "#5 Let's see the unique values for each categorical column\n",
    "print(\"Unique values for each categorical column:\")\n",
    "for i in df.select_dtypes(include=object):\n",
    "    print(f\"Column: {i} : {df[i].unique()} \\n\")"
   ]
  },
  {
   "cell_type": "markdown",
   "metadata": {},
   "source": [
    "## DATA PREPROCESSING"
   ]
  },
  {
   "cell_type": "markdown",
   "metadata": {},
   "source": [
    "we can see that there's no column with missedwritten value"
   ]
  },
  {
   "cell_type": "markdown",
   "metadata": {},
   "source": [
    "### 1 Let's handle missing Values"
   ]
  },
  {
   "cell_type": "code",
   "execution_count": 37,
   "metadata": {},
   "outputs": [
    {
     "name": "stderr",
     "output_type": "stream",
     "text": [
      "C:\\Users\\chris.DESKTOP-GCU74DF\\AppData\\Local\\Temp\\ipykernel_29580\\3083291760.py:6: FutureWarning: A value is trying to be set on a copy of a DataFrame or Series through chained assignment using an inplace method.\n",
      "The behavior will change in pandas 3.0. This inplace method will never work because the intermediate object on which we are setting values always behaves as a copy.\n",
      "\n",
      "For example, when doing 'df[col].method(value, inplace=True)', try using 'df.method({col: value}, inplace=True)' or df[col] = df[col].method(value) instead, to perform the operation inplace on the original object.\n",
      "\n",
      "\n",
      "  df[i].fillna(df[i].mean(), inplace=True)\n"
     ]
    },
    {
     "data": {
      "text/plain": [
       "device_brand             0\n",
       "os                       0\n",
       "screen_size              0\n",
       "4g                       0\n",
       "5g                       0\n",
       "rear_camera_mp           0\n",
       "front_camera_mp          0\n",
       "internal_memory          0\n",
       "ram                      0\n",
       "battery                  0\n",
       "weight                   0\n",
       "release_year             0\n",
       "days_used                0\n",
       "normalized_used_price    0\n",
       "normalized_new_price     0\n",
       "dtype: int64"
      ]
     },
     "execution_count": 37,
     "metadata": {},
     "output_type": "execute_result"
    }
   ],
   "source": [
    "\n",
    "\n",
    "#1.1 There's no column with a significant amount of missing value, so we cannot drop any of them based on that\n",
    "\n",
    "#1.2 Let's replace the numeric missing value by either mean or median\n",
    "    ##In this case we'll replace it by mean because the distribution is normal and there's no many outliers\n",
    "for i in df.select_dtypes(exclude=object):\n",
    "    df[i].fillna(df[i].mean(), inplace=True)\n",
    "\n",
    "#Let's visualize the number of missing values\n",
    "df.isnull().sum()"
   ]
  },
  {
   "cell_type": "markdown",
   "metadata": {},
   "source": [
    "### 2 Outlier Treatment"
   ]
  },
  {
   "cell_type": "code",
   "execution_count": null,
   "metadata": {},
   "outputs": [],
   "source": []
  },
  {
   "cell_type": "code",
   "execution_count": 60,
   "metadata": {},
   "outputs": [
    {
     "data": {
      "image/png": "[encoded data removed]",
      "text/plain": [
       "<Figure size 400x400 with 1 Axes>"
      ]
     },
     "metadata": {},
     "output_type": "display_data"
    },
    {
     "data": {
      "image/png": "[encoded data removed]",
      "text/plain": [
       "<Figure size 400x400 with 1 Axes>"
      ]
     },
     "metadata": {},
     "output_type": "display_data"
    },
    {
     "data": {
      "image/png": "[encoded data removed]",
      "text/plain": [
       "<Figure size 400x400 with 1 Axes>"
      ]
     },
     "metadata": {},
     "output_type": "display_data"
    },
    {
     "data": {
      "image/png": "[encoded data removed]",
      "text/plain": [
       "<Figure size 400x400 with 1 Axes>"
      ]
     },
     "metadata": {},
     "output_type": "display_data"
    },
    {
     "data": {
      "image/png": "[encoded data removed]",
      "text/plain": [
       "<Figure size 400x400 with 1 Axes>"
      ]
     },
     "metadata": {},
     "output_type": "display_data"
    },
    {
     "data": {
      "image/png": "[encoded data removed]",
      "text/plain": [
       "<Figure size 400x400 with 1 Axes>"
      ]
     },
     "metadata": {},
     "output_type": "display_data"
    },
    {
     "data": {
      "image/png": "[encoded data removed]",
      "text/plain": [
       "<Figure size 400x400 with 1 Axes>"
      ]
     },
     "metadata": {},
     "output_type": "display_data"
    },
    {
     "data": {
      "image/png": "[encoded data removed]",
      "text/plain": [
       "<Figure size 400x400 with 1 Axes>"
      ]
     },
     "metadata": {},
     "output_type": "display_data"
    },
    {
     "data": {
      "image/png": "[encoded data removed]",
      "text/plain": [
       "<Figure size 400x400 with 1 Axes>"
      ]
     },
     "metadata": {},
     "output_type": "display_data"
    },
    {
     "data": {
      "image/png": "[encoded data removed]",
      "text/plain": [
       "<Figure size 400x400 with 1 Axes>"
      ]
     },
     "metadata": {},
     "output_type": "display_data"
    },
    {
     "data": {
      "image/png": "[encoded data removed]",
      "text/plain": [
       "<Figure size 400x400 with 1 Axes>"
      ]
     },
     "metadata": {},
     "output_type": "display_data"
    },
    {
     "data": {
      "image/png": "[encoded data removed]",
      "text/plain": [
       "<Figure size 400x400 with 1 Axes>"
      ]
     },
     "metadata": {},
     "output_type": "display_data"
    }
   ],
   "source": [
    "#2.1 Let's visualize them\n",
    "# Example: Box plot to identify outliers in 'battery' column\n",
    "for i in df.select_dtypes(exclude=object):\n",
    "    plt.figure(figsize=(4, 4))\n",
    "    sns.boxplot(x=df[i])\n",
    "    plt.title(f'Box Plot of {i}')\n",
    "    plt.show()"
   ]
  },
  {
   "cell_type": "markdown",
   "metadata": {},
   "source": [
    "Looking at these box plot we can identify some anomalies, like in the screen size that contains values greater than 30 cm that's very unsuall for a phone, so we are going to remove alll the value greater than this value and also the weight than should not be over 800g and also the fact that front camera has as min value 0 is also unsual, so we will fix that too"
   ]
  },
  {
   "cell_type": "code",
   "execution_count": 39,
   "metadata": {},
   "outputs": [
    {
     "data": {
      "text/html": [
       "<div>\n",
       "<style scoped>\n",
       "    .dataframe tbody tr th:only-of-type {\n",
       "        vertical-align: middle;\n",
       "    }\n",
       "\n",
       "    .dataframe tbody tr th {\n",
       "        vertical-align: top;\n",
       "    }\n",
       "\n",
       "    .dataframe thead th {\n",
       "        text-align: right;\n",
       "    }\n",
       "</style>\n",
       "<table border=\"1\" class=\"dataframe\">\n",
       "  <thead>\n",
       "    <tr style=\"text-align: right;\">\n",
       "      <th></th>\n",
       "      <th>screen_size</th>\n",
       "      <th>rear_camera_mp</th>\n",
       "      <th>front_camera_mp</th>\n",
       "      <th>internal_memory</th>\n",
       "      <th>ram</th>\n",
       "      <th>battery</th>\n",
       "      <th>weight</th>\n",
       "      <th>release_year</th>\n",
       "      <th>days_used</th>\n",
       "      <th>normalized_used_price</th>\n",
       "      <th>normalized_new_price</th>\n",
       "    </tr>\n",
       "  </thead>\n",
       "  <tbody>\n",
       "    <tr>\n",
       "      <th>count</th>\n",
       "      <td>3403.000000</td>\n",
       "      <td>3403.000000</td>\n",
       "      <td>3403.000000</td>\n",
       "      <td>3403.000000</td>\n",
       "      <td>3403.000000</td>\n",
       "      <td>3403.000000</td>\n",
       "      <td>3403.000000</td>\n",
       "      <td>3403.000000</td>\n",
       "      <td>3403.000000</td>\n",
       "      <td>3403.000000</td>\n",
       "      <td>3403.000000</td>\n",
       "    </tr>\n",
       "    <tr>\n",
       "      <th>mean</th>\n",
       "      <td>13.749036</td>\n",
       "      <td>9.548650</td>\n",
       "      <td>6.641231</td>\n",
       "      <td>54.888748</td>\n",
       "      <td>4.076917</td>\n",
       "      <td>3137.355918</td>\n",
       "      <td>181.780154</td>\n",
       "      <td>2015.968557</td>\n",
       "      <td>674.866588</td>\n",
       "      <td>437.327375</td>\n",
       "      <td>524.382852</td>\n",
       "    </tr>\n",
       "    <tr>\n",
       "      <th>std</th>\n",
       "      <td>3.599432</td>\n",
       "      <td>4.649741</td>\n",
       "      <td>6.980578</td>\n",
       "      <td>83.725218</td>\n",
       "      <td>1.311837</td>\n",
       "      <td>1249.903111</td>\n",
       "      <td>82.081430</td>\n",
       "      <td>2.294694</td>\n",
       "      <td>248.299595</td>\n",
       "      <td>57.578237</td>\n",
       "      <td>66.882389</td>\n",
       "    </tr>\n",
       "    <tr>\n",
       "      <th>min</th>\n",
       "      <td>5.080000</td>\n",
       "      <td>0.080000</td>\n",
       "      <td>0.300000</td>\n",
       "      <td>0.010000</td>\n",
       "      <td>0.250000</td>\n",
       "      <td>500.000000</td>\n",
       "      <td>69.000000</td>\n",
       "      <td>2013.000000</td>\n",
       "      <td>91.000000</td>\n",
       "      <td>153.686722</td>\n",
       "      <td>290.142159</td>\n",
       "    </tr>\n",
       "    <tr>\n",
       "      <th>25%</th>\n",
       "      <td>12.700000</td>\n",
       "      <td>5.000000</td>\n",
       "      <td>2.000000</td>\n",
       "      <td>16.000000</td>\n",
       "      <td>4.000000</td>\n",
       "      <td>2100.000000</td>\n",
       "      <td>142.900000</td>\n",
       "      <td>2014.000000</td>\n",
       "      <td>534.000000</td>\n",
       "      <td>404.454135</td>\n",
       "      <td>479.512917</td>\n",
       "    </tr>\n",
       "    <tr>\n",
       "      <th>50%</th>\n",
       "      <td>12.830000</td>\n",
       "      <td>9.460208</td>\n",
       "      <td>5.000000</td>\n",
       "      <td>32.000000</td>\n",
       "      <td>4.000000</td>\n",
       "      <td>3000.000000</td>\n",
       "      <td>160.000000</td>\n",
       "      <td>2016.000000</td>\n",
       "      <td>691.000000</td>\n",
       "      <td>441.061409</td>\n",
       "      <td>524.865432</td>\n",
       "    </tr>\n",
       "    <tr>\n",
       "      <th>75%</th>\n",
       "      <td>15.340000</td>\n",
       "      <td>13.000000</td>\n",
       "      <td>8.000000</td>\n",
       "      <td>64.000000</td>\n",
       "      <td>4.000000</td>\n",
       "      <td>4000.000000</td>\n",
       "      <td>185.000000</td>\n",
       "      <td>2018.000000</td>\n",
       "      <td>868.000000</td>\n",
       "      <td>475.617300</td>\n",
       "      <td>567.462826</td>\n",
       "    </tr>\n",
       "    <tr>\n",
       "      <th>max</th>\n",
       "      <td>27.940000</td>\n",
       "      <td>48.000000</td>\n",
       "      <td>32.000000</td>\n",
       "      <td>1024.000000</td>\n",
       "      <td>12.000000</td>\n",
       "      <td>9600.000000</td>\n",
       "      <td>680.000000</td>\n",
       "      <td>2020.000000</td>\n",
       "      <td>1094.000000</td>\n",
       "      <td>661.943300</td>\n",
       "      <td>784.784066</td>\n",
       "    </tr>\n",
       "  </tbody>\n",
       "</table>\n",
       "</div>"
      ],
      "text/plain": [
       "       screen_size  rear_camera_mp  front_camera_mp  internal_memory  \\\n",
       "count  3403.000000     3403.000000      3403.000000      3403.000000   \n",
       "mean     13.749036        9.548650         6.641231        54.888748   \n",
       "std       3.599432        4.649741         6.980578        83.725218   \n",
       "min       5.080000        0.080000         0.300000         0.010000   \n",
       "25%      12.700000        5.000000         2.000000        16.000000   \n",
       "50%      12.830000        9.460208         5.000000        32.000000   \n",
       "75%      15.340000       13.000000         8.000000        64.000000   \n",
       "max      27.940000       48.000000        32.000000      1024.000000   \n",
       "\n",
       "               ram      battery       weight  release_year    days_used  \\\n",
       "count  3403.000000  3403.000000  3403.000000   3403.000000  3403.000000   \n",
       "mean      4.076917  3137.355918   181.780154   2015.968557   674.866588   \n",
       "std       1.311837  1249.903111    82.081430      2.294694   248.299595   \n",
       "min       0.250000   500.000000    69.000000   2013.000000    91.000000   \n",
       "25%       4.000000  2100.000000   142.900000   2014.000000   534.000000   \n",
       "50%       4.000000  3000.000000   160.000000   2016.000000   691.000000   \n",
       "75%       4.000000  4000.000000   185.000000   2018.000000   868.000000   \n",
       "max      12.000000  9600.000000   680.000000   2020.000000  1094.000000   \n",
       "\n",
       "       normalized_used_price  normalized_new_price  \n",
       "count            3403.000000           3403.000000  \n",
       "mean              437.327375            524.382852  \n",
       "std                57.578237             66.882389  \n",
       "min               153.686722            290.142159  \n",
       "25%               404.454135            479.512917  \n",
       "50%               441.061409            524.865432  \n",
       "75%               475.617300            567.462826  \n",
       "max               661.943300            784.784066  "
      ]
     },
     "execution_count": 39,
     "metadata": {},
     "output_type": "execute_result"
    }
   ],
   "source": [
    "#Removing screen size and weight\n",
    "#for battery\n",
    "\n",
    "#Removing screen size and weight\n",
    "\n",
    "#For size\n",
    "df = df[df['screen_size']<=30]\n",
    "\n",
    "#for weight\n",
    "df = df[df['weight']<=800]\n",
    "\n",
    "#for front camera\n",
    "df = df[df['front_camera_mp']>0]\n",
    "df.describe()"
   ]
  },
  {
   "cell_type": "markdown",
   "metadata": {},
   "source": [
    "### 3 Feature engineering "
   ]
  },
  {
   "cell_type": "code",
   "execution_count": 40,
   "metadata": {},
   "outputs": [
    {
     "data": {
      "text/html": [
       "<div>\n",
       "<style scoped>\n",
       "    .dataframe tbody tr th:only-of-type {\n",
       "        vertical-align: middle;\n",
       "    }\n",
       "\n",
       "    .dataframe tbody tr th {\n",
       "        vertical-align: top;\n",
       "    }\n",
       "\n",
       "    .dataframe thead th {\n",
       "        text-align: right;\n",
       "    }\n",
       "</style>\n",
       "<table border=\"1\" class=\"dataframe\">\n",
       "  <thead>\n",
       "    <tr style=\"text-align: right;\">\n",
       "      <th></th>\n",
       "      <th>device_brand</th>\n",
       "      <th>os</th>\n",
       "      <th>screen_size</th>\n",
       "      <th>4g</th>\n",
       "      <th>5g</th>\n",
       "      <th>rear_camera_mp</th>\n",
       "      <th>front_camera_mp</th>\n",
       "      <th>internal_memory</th>\n",
       "      <th>ram</th>\n",
       "      <th>battery</th>\n",
       "      <th>weight</th>\n",
       "      <th>release_year</th>\n",
       "      <th>days_used</th>\n",
       "      <th>normalized_used_price</th>\n",
       "      <th>normalized_new_price</th>\n",
       "      <th>value_price_rate</th>\n",
       "    </tr>\n",
       "  </thead>\n",
       "  <tbody>\n",
       "    <tr>\n",
       "      <th>0</th>\n",
       "      <td>Honor</td>\n",
       "      <td>Android</td>\n",
       "      <td>14.50</td>\n",
       "      <td>yes</td>\n",
       "      <td>no</td>\n",
       "      <td>13.0</td>\n",
       "      <td>5.0</td>\n",
       "      <td>64.0</td>\n",
       "      <td>3.0</td>\n",
       "      <td>3020.0</td>\n",
       "      <td>146.0</td>\n",
       "      <td>2020</td>\n",
       "      <td>127</td>\n",
       "      <td>430.757245</td>\n",
       "      <td>471.510025</td>\n",
       "      <td>91.356964</td>\n",
       "    </tr>\n",
       "    <tr>\n",
       "      <th>1</th>\n",
       "      <td>Honor</td>\n",
       "      <td>Android</td>\n",
       "      <td>17.30</td>\n",
       "      <td>yes</td>\n",
       "      <td>yes</td>\n",
       "      <td>13.0</td>\n",
       "      <td>16.0</td>\n",
       "      <td>128.0</td>\n",
       "      <td>8.0</td>\n",
       "      <td>4300.0</td>\n",
       "      <td>213.0</td>\n",
       "      <td>2020</td>\n",
       "      <td>325</td>\n",
       "      <td>516.209665</td>\n",
       "      <td>551.901794</td>\n",
       "      <td>93.532884</td>\n",
       "    </tr>\n",
       "    <tr>\n",
       "      <th>2</th>\n",
       "      <td>Honor</td>\n",
       "      <td>Android</td>\n",
       "      <td>16.69</td>\n",
       "      <td>yes</td>\n",
       "      <td>yes</td>\n",
       "      <td>13.0</td>\n",
       "      <td>8.0</td>\n",
       "      <td>128.0</td>\n",
       "      <td>8.0</td>\n",
       "      <td>4200.0</td>\n",
       "      <td>213.0</td>\n",
       "      <td>2020</td>\n",
       "      <td>162</td>\n",
       "      <td>511.108377</td>\n",
       "      <td>588.463072</td>\n",
       "      <td>86.854792</td>\n",
       "    </tr>\n",
       "    <tr>\n",
       "      <th>3</th>\n",
       "      <td>Honor</td>\n",
       "      <td>Android</td>\n",
       "      <td>25.50</td>\n",
       "      <td>yes</td>\n",
       "      <td>yes</td>\n",
       "      <td>13.0</td>\n",
       "      <td>8.0</td>\n",
       "      <td>64.0</td>\n",
       "      <td>6.0</td>\n",
       "      <td>7250.0</td>\n",
       "      <td>480.0</td>\n",
       "      <td>2020</td>\n",
       "      <td>345</td>\n",
       "      <td>513.538659</td>\n",
       "      <td>563.096085</td>\n",
       "      <td>91.199117</td>\n",
       "    </tr>\n",
       "    <tr>\n",
       "      <th>4</th>\n",
       "      <td>Honor</td>\n",
       "      <td>Android</td>\n",
       "      <td>15.32</td>\n",
       "      <td>yes</td>\n",
       "      <td>no</td>\n",
       "      <td>13.0</td>\n",
       "      <td>8.0</td>\n",
       "      <td>64.0</td>\n",
       "      <td>3.0</td>\n",
       "      <td>5000.0</td>\n",
       "      <td>185.0</td>\n",
       "      <td>2020</td>\n",
       "      <td>293</td>\n",
       "      <td>438.999480</td>\n",
       "      <td>494.783748</td>\n",
       "      <td>88.725525</td>\n",
       "    </tr>\n",
       "  </tbody>\n",
       "</table>\n",
       "</div>"
      ],
      "text/plain": [
       "  device_brand       os  screen_size   4g   5g  rear_camera_mp  \\\n",
       "0        Honor  Android        14.50  yes   no            13.0   \n",
       "1        Honor  Android        17.30  yes  yes            13.0   \n",
       "2        Honor  Android        16.69  yes  yes            13.0   \n",
       "3        Honor  Android        25.50  yes  yes            13.0   \n",
       "4        Honor  Android        15.32  yes   no            13.0   \n",
       "\n",
       "   front_camera_mp  internal_memory  ram  battery  weight  release_year  \\\n",
       "0              5.0             64.0  3.0   3020.0   146.0          2020   \n",
       "1             16.0            128.0  8.0   4300.0   213.0          2020   \n",
       "2              8.0            128.0  8.0   4200.0   213.0          2020   \n",
       "3              8.0             64.0  6.0   7250.0   480.0          2020   \n",
       "4              8.0             64.0  3.0   5000.0   185.0          2020   \n",
       "\n",
       "   days_used  normalized_used_price  normalized_new_price  value_price_rate  \n",
       "0        127             430.757245            471.510025         91.356964  \n",
       "1        325             516.209665            551.901794         93.532884  \n",
       "2        162             511.108377            588.463072         86.854792  \n",
       "3        345             513.538659            563.096085         91.199117  \n",
       "4        293             438.999480            494.783748         88.725525  "
      ]
     },
     "execution_count": 40,
     "metadata": {},
     "output_type": "execute_result"
    }
   ],
   "source": [
    "\n",
    "#3.1 Create new feature from others\n",
    "    ##Why not create a value price rate, to actually show at what percentage of it orignal value the phone is currently is\n",
    "\n",
    "df['value_price_rate'] = df['normalized_used_price'] / df['normalized_new_price']*100\n",
    "df.head()"
   ]
  },
  {
   "cell_type": "code",
   "execution_count": 41,
   "metadata": {},
   "outputs": [],
   "source": [
    "#df[df['value_price_rate']<50]"
   ]
  },
  {
   "cell_type": "markdown",
   "metadata": {},
   "source": [
    "3.2 Let's convert the categorical values into the numerical ones. We'll be using either the labelEncoder or the one-hot enconding method depending on whether we want to associate string to a number or create new binary columns for each unique categorical value of the feature\n"
   ]
  },
  {
   "cell_type": "code",
   "execution_count": 42,
   "metadata": {},
   "outputs": [],
   "source": [
    "#We copy our dataset\n",
    "data = df"
   ]
  },
  {
   "cell_type": "code",
   "execution_count": 43,
   "metadata": {},
   "outputs": [
    {
     "name": "stdout",
     "output_type": "stream",
     "text": [
      "<class 'pandas.core.frame.DataFrame'>\n",
      "Index: 3403 entries, 0 to 3453\n",
      "Data columns (total 16 columns):\n",
      " #   Column                 Non-Null Count  Dtype  \n",
      "---  ------                 --------------  -----  \n",
      " 0   device_brand           3403 non-null   object \n",
      " 1   os                     3403 non-null   object \n",
      " 2   screen_size            3403 non-null   float64\n",
      " 3   4g                     3403 non-null   object \n",
      " 4   5g                     3403 non-null   object \n",
      " 5   rear_camera_mp         3403 non-null   float64\n",
      " 6   front_camera_mp        3403 non-null   float64\n",
      " 7   internal_memory        3403 non-null   float64\n",
      " 8   ram                    3403 non-null   float64\n",
      " 9   battery                3403 non-null   float64\n",
      " 10  weight                 3403 non-null   float64\n",
      " 11  release_year           3403 non-null   int64  \n",
      " 12  days_used              3403 non-null   int64  \n",
      " 13  normalized_used_price  3403 non-null   float64\n",
      " 14  normalized_new_price   3403 non-null   float64\n",
      " 15  value_price_rate       3403 non-null   float64\n",
      "dtypes: float64(10), int64(2), object(4)\n",
      "memory usage: 452.0+ KB\n"
     ]
    }
   ],
   "source": [
    "data.info()"
   ]
  },
  {
   "cell_type": "markdown",
   "metadata": {},
   "source": [
    "## 3.2 Visualization"
   ]
  },
  {
   "cell_type": "code",
   "execution_count": 61,
   "metadata": {},
   "outputs": [
    {
     "data": {
      "text/plain": [
       "(array([558., 632., 506.,   0., 381., 296.,   0., 319., 441., 270.]),\n",
       " array([2013. , 2013.7, 2014.4, 2015.1, 2015.8, 2016.5, 2017.2, 2017.9,\n",
       "        2018.6, 2019.3, 2020. ]),\n",
       " <BarContainer object of 10 artists>)"
      ]
     },
     "execution_count": 61,
     "metadata": {},
     "output_type": "execute_result"
    },
    {
     "data": {
      "image/png": "[encoded data removed]",
      "text/plain": [
       "<Figure size 1000x1000 with 5 Axes>"
      ]
     },
     "metadata": {},
     "output_type": "display_data"
    }
   ],
   "source": [
    "#5 Let's display the distribution of numerical features\n",
    "\n",
    "fig, (ax1, ax2, ax3, ax4, ax5) = plt.subplots(nrows=5, ncols=1, figsize=(10, 10))\n",
    "ax1.hist(df['rear_camera_mp'])\n",
    "ax2.hist(df['4g'])\n",
    "ax3.hist(df['os'])\n",
    "ax4.hist(df['days_used'])\n",
    "ax5.hist(df['release_year'])\n"
   ]
  },
  {
   "cell_type": "code",
   "execution_count": 65,
   "metadata": {},
   "outputs": [
    {
     "data": {
      "text/plain": [
       "<Axes: >"
      ]
     },
     "execution_count": 65,
     "metadata": {},
     "output_type": "execute_result"
    },
    {
     "data": {
      "image/png": "[encoded data removed]",
      "text/plain": [
       "<Figure size 2000x1000 with 1 Axes>"
      ]
     },
     "metadata": {},
     "output_type": "display_data"
    },
    {
     "ename": "",
     "evalue": "",
     "output_type": "error",
     "traceback": [
      "\u001b[1;31mThe Kernel crashed while executing code in the current cell or a previous cell. \n",
      "\u001b[1;31mPlease review the code in the cell(s) to identify a possible cause of the failure. \n",
      "\u001b[1;31mClick <a href='https://aka.ms/vscodeJupyterKernelCrash'>here</a> for more info. \n",
      "\u001b[1;31mView Jupyter <a href='command:jupyter.viewOutput'>log</a> for further details."
     ]
    }
   ],
   "source": [
    "#Let's visualize the box plot of our features\n",
    "\n",
    "plt.figure(figsize = (20, 10))\n",
    "plt.yscale('log')\n",
    "sns.boxplot(data = df)"
   ]
  },
  {
   "cell_type": "code",
   "execution_count": null,
   "metadata": {},
   "outputs": [],
   "source": []
  },
  {
   "cell_type": "markdown",
   "metadata": {},
   "source": [
    "## 4 Feature Selection"
   ]
  },
  {
   "cell_type": "markdown",
   "metadata": {},
   "source": [
    "This steps consists of removing all the features that are not highly useful for our model, we can make it by hand our let the machine do it for us by using the PCA (Princiap  Component Analysis)"
   ]
  },
  {
   "cell_type": "code",
   "execution_count": 44,
   "metadata": {},
   "outputs": [],
   "source": [
    "#5.1 I'm going to do that by myself and then see what does the machine so I can keep what we all both agree on\n",
    "\n",
    "#I think that quite all the features are important but we can get still get rid of the weight, \n",
    "# and (in a normal case we would also put all the 4  os feature in one because it's clear that it's not worth to create 3 more columns\n",
    "#I deliberately remove the 'os' column because it looks obvious, because each phone brand uses an unique os so no need to specify it\n",
    "data = data.drop('weight', axis=1)\n",
    "data = data.drop('os', axis=1)\n",
    "\n",
    "#Here I'll delete also the value stuff because altough it's a good information to know, it's impossible to ask the user that value\n",
    "data = data.drop('value_price_rate', axis=1)"
   ]
  },
  {
   "cell_type": "code",
   "execution_count": 45,
   "metadata": {},
   "outputs": [
    {
     "data": {
      "text/html": [
       "<div>\n",
       "<style scoped>\n",
       "    .dataframe tbody tr th:only-of-type {\n",
       "        vertical-align: middle;\n",
       "    }\n",
       "\n",
       "    .dataframe tbody tr th {\n",
       "        vertical-align: top;\n",
       "    }\n",
       "\n",
       "    .dataframe thead th {\n",
       "        text-align: right;\n",
       "    }\n",
       "</style>\n",
       "<table border=\"1\" class=\"dataframe\">\n",
       "  <thead>\n",
       "    <tr style=\"text-align: right;\">\n",
       "      <th></th>\n",
       "      <th>device_brand</th>\n",
       "      <th>screen_size</th>\n",
       "      <th>4g</th>\n",
       "      <th>5g</th>\n",
       "      <th>rear_camera_mp</th>\n",
       "      <th>front_camera_mp</th>\n",
       "      <th>internal_memory</th>\n",
       "      <th>ram</th>\n",
       "      <th>battery</th>\n",
       "      <th>release_year</th>\n",
       "      <th>days_used</th>\n",
       "      <th>normalized_used_price</th>\n",
       "      <th>normalized_new_price</th>\n",
       "    </tr>\n",
       "  </thead>\n",
       "  <tbody>\n",
       "    <tr>\n",
       "      <th>0</th>\n",
       "      <td>Honor</td>\n",
       "      <td>14.50</td>\n",
       "      <td>yes</td>\n",
       "      <td>no</td>\n",
       "      <td>13.000000</td>\n",
       "      <td>5.0</td>\n",
       "      <td>64.0</td>\n",
       "      <td>3.0</td>\n",
       "      <td>3020.0</td>\n",
       "      <td>2020</td>\n",
       "      <td>127</td>\n",
       "      <td>430.757245</td>\n",
       "      <td>471.510025</td>\n",
       "    </tr>\n",
       "    <tr>\n",
       "      <th>1</th>\n",
       "      <td>Honor</td>\n",
       "      <td>17.30</td>\n",
       "      <td>yes</td>\n",
       "      <td>yes</td>\n",
       "      <td>13.000000</td>\n",
       "      <td>16.0</td>\n",
       "      <td>128.0</td>\n",
       "      <td>8.0</td>\n",
       "      <td>4300.0</td>\n",
       "      <td>2020</td>\n",
       "      <td>325</td>\n",
       "      <td>516.209665</td>\n",
       "      <td>551.901794</td>\n",
       "    </tr>\n",
       "    <tr>\n",
       "      <th>2</th>\n",
       "      <td>Honor</td>\n",
       "      <td>16.69</td>\n",
       "      <td>yes</td>\n",
       "      <td>yes</td>\n",
       "      <td>13.000000</td>\n",
       "      <td>8.0</td>\n",
       "      <td>128.0</td>\n",
       "      <td>8.0</td>\n",
       "      <td>4200.0</td>\n",
       "      <td>2020</td>\n",
       "      <td>162</td>\n",
       "      <td>511.108377</td>\n",
       "      <td>588.463072</td>\n",
       "    </tr>\n",
       "    <tr>\n",
       "      <th>3</th>\n",
       "      <td>Honor</td>\n",
       "      <td>25.50</td>\n",
       "      <td>yes</td>\n",
       "      <td>yes</td>\n",
       "      <td>13.000000</td>\n",
       "      <td>8.0</td>\n",
       "      <td>64.0</td>\n",
       "      <td>6.0</td>\n",
       "      <td>7250.0</td>\n",
       "      <td>2020</td>\n",
       "      <td>345</td>\n",
       "      <td>513.538659</td>\n",
       "      <td>563.096085</td>\n",
       "    </tr>\n",
       "    <tr>\n",
       "      <th>4</th>\n",
       "      <td>Honor</td>\n",
       "      <td>15.32</td>\n",
       "      <td>yes</td>\n",
       "      <td>no</td>\n",
       "      <td>13.000000</td>\n",
       "      <td>8.0</td>\n",
       "      <td>64.0</td>\n",
       "      <td>3.0</td>\n",
       "      <td>5000.0</td>\n",
       "      <td>2020</td>\n",
       "      <td>293</td>\n",
       "      <td>438.999480</td>\n",
       "      <td>494.783748</td>\n",
       "    </tr>\n",
       "    <tr>\n",
       "      <th>...</th>\n",
       "      <td>...</td>\n",
       "      <td>...</td>\n",
       "      <td>...</td>\n",
       "      <td>...</td>\n",
       "      <td>...</td>\n",
       "      <td>...</td>\n",
       "      <td>...</td>\n",
       "      <td>...</td>\n",
       "      <td>...</td>\n",
       "      <td>...</td>\n",
       "      <td>...</td>\n",
       "      <td>...</td>\n",
       "      <td>...</td>\n",
       "    </tr>\n",
       "    <tr>\n",
       "      <th>3449</th>\n",
       "      <td>Asus</td>\n",
       "      <td>15.34</td>\n",
       "      <td>yes</td>\n",
       "      <td>no</td>\n",
       "      <td>9.460208</td>\n",
       "      <td>8.0</td>\n",
       "      <td>64.0</td>\n",
       "      <td>6.0</td>\n",
       "      <td>5000.0</td>\n",
       "      <td>2019</td>\n",
       "      <td>232</td>\n",
       "      <td>449.233738</td>\n",
       "      <td>648.387159</td>\n",
       "    </tr>\n",
       "    <tr>\n",
       "      <th>3450</th>\n",
       "      <td>Asus</td>\n",
       "      <td>15.24</td>\n",
       "      <td>yes</td>\n",
       "      <td>no</td>\n",
       "      <td>13.000000</td>\n",
       "      <td>8.0</td>\n",
       "      <td>128.0</td>\n",
       "      <td>8.0</td>\n",
       "      <td>4000.0</td>\n",
       "      <td>2018</td>\n",
       "      <td>541</td>\n",
       "      <td>503.773152</td>\n",
       "      <td>625.153773</td>\n",
       "    </tr>\n",
       "    <tr>\n",
       "      <th>3451</th>\n",
       "      <td>Alcatel</td>\n",
       "      <td>15.80</td>\n",
       "      <td>yes</td>\n",
       "      <td>no</td>\n",
       "      <td>13.000000</td>\n",
       "      <td>5.0</td>\n",
       "      <td>32.0</td>\n",
       "      <td>3.0</td>\n",
       "      <td>4000.0</td>\n",
       "      <td>2020</td>\n",
       "      <td>201</td>\n",
       "      <td>435.734965</td>\n",
       "      <td>452.882895</td>\n",
       "    </tr>\n",
       "    <tr>\n",
       "      <th>3452</th>\n",
       "      <td>Alcatel</td>\n",
       "      <td>15.80</td>\n",
       "      <td>yes</td>\n",
       "      <td>no</td>\n",
       "      <td>13.000000</td>\n",
       "      <td>5.0</td>\n",
       "      <td>32.0</td>\n",
       "      <td>2.0</td>\n",
       "      <td>4000.0</td>\n",
       "      <td>2020</td>\n",
       "      <td>149</td>\n",
       "      <td>434.976167</td>\n",
       "      <td>462.418819</td>\n",
       "    </tr>\n",
       "    <tr>\n",
       "      <th>3453</th>\n",
       "      <td>Alcatel</td>\n",
       "      <td>12.83</td>\n",
       "      <td>yes</td>\n",
       "      <td>no</td>\n",
       "      <td>13.000000</td>\n",
       "      <td>5.0</td>\n",
       "      <td>16.0</td>\n",
       "      <td>2.0</td>\n",
       "      <td>4000.0</td>\n",
       "      <td>2020</td>\n",
       "      <td>176</td>\n",
       "      <td>413.212193</td>\n",
       "      <td>427.999391</td>\n",
       "    </tr>\n",
       "  </tbody>\n",
       "</table>\n",
       "<p>3403 rows × 13 columns</p>\n",
       "</div>"
      ],
      "text/plain": [
       "     device_brand  screen_size   4g   5g  rear_camera_mp  front_camera_mp  \\\n",
       "0           Honor        14.50  yes   no       13.000000              5.0   \n",
       "1           Honor        17.30  yes  yes       13.000000             16.0   \n",
       "2           Honor        16.69  yes  yes       13.000000              8.0   \n",
       "3           Honor        25.50  yes  yes       13.000000              8.0   \n",
       "4           Honor        15.32  yes   no       13.000000              8.0   \n",
       "...           ...          ...  ...  ...             ...              ...   \n",
       "3449         Asus        15.34  yes   no        9.460208              8.0   \n",
       "3450         Asus        15.24  yes   no       13.000000              8.0   \n",
       "3451      Alcatel        15.80  yes   no       13.000000              5.0   \n",
       "3452      Alcatel        15.80  yes   no       13.000000              5.0   \n",
       "3453      Alcatel        12.83  yes   no       13.000000              5.0   \n",
       "\n",
       "      internal_memory  ram  battery  release_year  days_used  \\\n",
       "0                64.0  3.0   3020.0          2020        127   \n",
       "1               128.0  8.0   4300.0          2020        325   \n",
       "2               128.0  8.0   4200.0          2020        162   \n",
       "3                64.0  6.0   7250.0          2020        345   \n",
       "4                64.0  3.0   5000.0          2020        293   \n",
       "...               ...  ...      ...           ...        ...   \n",
       "3449             64.0  6.0   5000.0          2019        232   \n",
       "3450            128.0  8.0   4000.0          2018        541   \n",
       "3451             32.0  3.0   4000.0          2020        201   \n",
       "3452             32.0  2.0   4000.0          2020        149   \n",
       "3453             16.0  2.0   4000.0          2020        176   \n",
       "\n",
       "      normalized_used_price  normalized_new_price  \n",
       "0                430.757245            471.510025  \n",
       "1                516.209665            551.901794  \n",
       "2                511.108377            588.463072  \n",
       "3                513.538659            563.096085  \n",
       "4                438.999480            494.783748  \n",
       "...                     ...                   ...  \n",
       "3449             449.233738            648.387159  \n",
       "3450             503.773152            625.153773  \n",
       "3451             435.734965            452.882895  \n",
       "3452             434.976167            462.418819  \n",
       "3453             413.212193            427.999391  \n",
       "\n",
       "[3403 rows x 13 columns]"
      ]
     },
     "execution_count": 45,
     "metadata": {},
     "output_type": "execute_result"
    }
   ],
   "source": [
    "#The second way is to use the PCA and see what it does\n",
    "''' \n",
    "from sklearn.preprocessing import StandardScaler\n",
    "from sklearn.decomposition import PCA\n",
    "\n",
    "# Assuming 'X' is your dataset\n",
    "scaler = StandardScaler()\n",
    "df_scaled = scaler.fit_transform(df_normalized)\n",
    "\n",
    "\n",
    "\n",
    "# Explained variance ratio\n",
    "explained_variance_ratio = pca.explained_variance_ratio_\n",
    "print(\"Explained variance ratio:\", explained_variance_ratio)\n",
    "\n",
    "# Cumulative explained variance\n",
    "cum_explained_variance = np.cumsum(explained_variance_ratio)\n",
    "print(\"Cumulative explained variance:\", cum_explained_variance)\n",
    "\n",
    "# Initialize PCA with number of components\n",
    "pca = PCA()  # Choose number of components to keep\n",
    "\n",
    "# Fit PCA and transform the data\n",
    "df_pca = pca.fit_transform(df_scaled)\n",
    "df_pca = pd.DataFrame(data=df_pca)\n",
    "df_pca'''\n",
    "data"
   ]
  },
  {
   "cell_type": "markdown",
   "metadata": {},
   "source": []
  },
  {
   "cell_type": "markdown",
   "metadata": {},
   "source": [
    "## 5 Numerization"
   ]
  },
  {
   "cell_type": "code",
   "execution_count": 46,
   "metadata": {},
   "outputs": [
    {
     "name": "stdout",
     "output_type": "stream",
     "text": [
      "Mapping of categories to numerical values:\n",
      "Acer -> 0\n",
      "Alcatel -> 1\n",
      "Apple -> 2\n",
      "Asus -> 3\n",
      "BlackBerry -> 4\n",
      "Celkon -> 5\n",
      "Coolpad -> 6\n",
      "Gionee -> 7\n",
      "Google -> 8\n",
      "HTC -> 9\n",
      "Honor -> 10\n",
      "Huawei -> 11\n",
      "Infinix -> 12\n",
      "Karbonn -> 13\n",
      "LG -> 14\n",
      "Lava -> 15\n",
      "Lenovo -> 16\n",
      "Meizu -> 17\n",
      "Micromax -> 18\n",
      "Microsoft -> 19\n",
      "Motorola -> 20\n",
      "Nokia -> 21\n",
      "OnePlus -> 22\n",
      "Oppo -> 23\n",
      "Others -> 24\n",
      "Panasonic -> 25\n",
      "Realme -> 26\n",
      "Samsung -> 27\n",
      "Sony -> 28\n",
      "Spice -> 29\n",
      "Vivo -> 30\n",
      "XOLO -> 31\n",
      "Xiaomi -> 32\n",
      "ZTE -> 33\n"
     ]
    }
   ],
   "source": [
    "#3.2.1  For device, we'll use the LabelEncoder because we have more two unique values (non binary case)\n",
    "from sklearn.preprocessing import LabelEncoder\n",
    "\n",
    "# Initialize LabelEncoder\n",
    "label_encoder = LabelEncoder()\n",
    "\n",
    "# Fit and transform the categorical column device brand\n",
    "\n",
    "data['device_brand'] = label_encoder.fit_transform(data['device_brand'])\n",
    "\n",
    "# View the mapping of original categories to numerical values\n",
    "print(\"Mapping of categories to numerical values:\")\n",
    "for i, category in enumerate(label_encoder.classes_):\n",
    "    print(f\"{category} -> {i}\")\n"
   ]
  },
  {
   "cell_type": "code",
   "execution_count": 47,
   "metadata": {},
   "outputs": [],
   "source": [
    "#3.2.2 Fit and transform the categorical columns 4g and 5g\n",
    "data['4g'] = label_encoder.fit_transform(data['4g'])\n",
    "data['5g'] = label_encoder.fit_transform(data['5g'])\n",
    "\n",
    "\n",
    "\n",
    "#In this case I replace direcly instead of create a new column because they are binary\n",
    "#no=0 and yes = 1"
   ]
  },
  {
   "cell_type": "code",
   "execution_count": 48,
   "metadata": {},
   "outputs": [
    {
     "data": {
      "text/html": [
       "<div>\n",
       "<style scoped>\n",
       "    .dataframe tbody tr th:only-of-type {\n",
       "        vertical-align: middle;\n",
       "    }\n",
       "\n",
       "    .dataframe tbody tr th {\n",
       "        vertical-align: top;\n",
       "    }\n",
       "\n",
       "    .dataframe thead th {\n",
       "        text-align: right;\n",
       "    }\n",
       "</style>\n",
       "<table border=\"1\" class=\"dataframe\">\n",
       "  <thead>\n",
       "    <tr style=\"text-align: right;\">\n",
       "      <th></th>\n",
       "      <th>device_brand</th>\n",
       "      <th>screen_size</th>\n",
       "      <th>4g</th>\n",
       "      <th>5g</th>\n",
       "      <th>rear_camera_mp</th>\n",
       "      <th>front_camera_mp</th>\n",
       "      <th>internal_memory</th>\n",
       "      <th>ram</th>\n",
       "      <th>battery</th>\n",
       "      <th>release_year</th>\n",
       "      <th>days_used</th>\n",
       "      <th>normalized_used_price</th>\n",
       "      <th>normalized_new_price</th>\n",
       "    </tr>\n",
       "  </thead>\n",
       "  <tbody>\n",
       "    <tr>\n",
       "      <th>0</th>\n",
       "      <td>10</td>\n",
       "      <td>14.50</td>\n",
       "      <td>1</td>\n",
       "      <td>0</td>\n",
       "      <td>13.000000</td>\n",
       "      <td>5.0</td>\n",
       "      <td>64.0</td>\n",
       "      <td>3.0</td>\n",
       "      <td>3020.0</td>\n",
       "      <td>2020</td>\n",
       "      <td>127</td>\n",
       "      <td>430.757245</td>\n",
       "      <td>471.510025</td>\n",
       "    </tr>\n",
       "    <tr>\n",
       "      <th>1</th>\n",
       "      <td>10</td>\n",
       "      <td>17.30</td>\n",
       "      <td>1</td>\n",
       "      <td>1</td>\n",
       "      <td>13.000000</td>\n",
       "      <td>16.0</td>\n",
       "      <td>128.0</td>\n",
       "      <td>8.0</td>\n",
       "      <td>4300.0</td>\n",
       "      <td>2020</td>\n",
       "      <td>325</td>\n",
       "      <td>516.209665</td>\n",
       "      <td>551.901794</td>\n",
       "    </tr>\n",
       "    <tr>\n",
       "      <th>2</th>\n",
       "      <td>10</td>\n",
       "      <td>16.69</td>\n",
       "      <td>1</td>\n",
       "      <td>1</td>\n",
       "      <td>13.000000</td>\n",
       "      <td>8.0</td>\n",
       "      <td>128.0</td>\n",
       "      <td>8.0</td>\n",
       "      <td>4200.0</td>\n",
       "      <td>2020</td>\n",
       "      <td>162</td>\n",
       "      <td>511.108377</td>\n",
       "      <td>588.463072</td>\n",
       "    </tr>\n",
       "    <tr>\n",
       "      <th>3</th>\n",
       "      <td>10</td>\n",
       "      <td>25.50</td>\n",
       "      <td>1</td>\n",
       "      <td>1</td>\n",
       "      <td>13.000000</td>\n",
       "      <td>8.0</td>\n",
       "      <td>64.0</td>\n",
       "      <td>6.0</td>\n",
       "      <td>7250.0</td>\n",
       "      <td>2020</td>\n",
       "      <td>345</td>\n",
       "      <td>513.538659</td>\n",
       "      <td>563.096085</td>\n",
       "    </tr>\n",
       "    <tr>\n",
       "      <th>4</th>\n",
       "      <td>10</td>\n",
       "      <td>15.32</td>\n",
       "      <td>1</td>\n",
       "      <td>0</td>\n",
       "      <td>13.000000</td>\n",
       "      <td>8.0</td>\n",
       "      <td>64.0</td>\n",
       "      <td>3.0</td>\n",
       "      <td>5000.0</td>\n",
       "      <td>2020</td>\n",
       "      <td>293</td>\n",
       "      <td>438.999480</td>\n",
       "      <td>494.783748</td>\n",
       "    </tr>\n",
       "    <tr>\n",
       "      <th>...</th>\n",
       "      <td>...</td>\n",
       "      <td>...</td>\n",
       "      <td>...</td>\n",
       "      <td>...</td>\n",
       "      <td>...</td>\n",
       "      <td>...</td>\n",
       "      <td>...</td>\n",
       "      <td>...</td>\n",
       "      <td>...</td>\n",
       "      <td>...</td>\n",
       "      <td>...</td>\n",
       "      <td>...</td>\n",
       "      <td>...</td>\n",
       "    </tr>\n",
       "    <tr>\n",
       "      <th>3449</th>\n",
       "      <td>3</td>\n",
       "      <td>15.34</td>\n",
       "      <td>1</td>\n",
       "      <td>0</td>\n",
       "      <td>9.460208</td>\n",
       "      <td>8.0</td>\n",
       "      <td>64.0</td>\n",
       "      <td>6.0</td>\n",
       "      <td>5000.0</td>\n",
       "      <td>2019</td>\n",
       "      <td>232</td>\n",
       "      <td>449.233738</td>\n",
       "      <td>648.387159</td>\n",
       "    </tr>\n",
       "    <tr>\n",
       "      <th>3450</th>\n",
       "      <td>3</td>\n",
       "      <td>15.24</td>\n",
       "      <td>1</td>\n",
       "      <td>0</td>\n",
       "      <td>13.000000</td>\n",
       "      <td>8.0</td>\n",
       "      <td>128.0</td>\n",
       "      <td>8.0</td>\n",
       "      <td>4000.0</td>\n",
       "      <td>2018</td>\n",
       "      <td>541</td>\n",
       "      <td>503.773152</td>\n",
       "      <td>625.153773</td>\n",
       "    </tr>\n",
       "    <tr>\n",
       "      <th>3451</th>\n",
       "      <td>1</td>\n",
       "      <td>15.80</td>\n",
       "      <td>1</td>\n",
       "      <td>0</td>\n",
       "      <td>13.000000</td>\n",
       "      <td>5.0</td>\n",
       "      <td>32.0</td>\n",
       "      <td>3.0</td>\n",
       "      <td>4000.0</td>\n",
       "      <td>2020</td>\n",
       "      <td>201</td>\n",
       "      <td>435.734965</td>\n",
       "      <td>452.882895</td>\n",
       "    </tr>\n",
       "    <tr>\n",
       "      <th>3452</th>\n",
       "      <td>1</td>\n",
       "      <td>15.80</td>\n",
       "      <td>1</td>\n",
       "      <td>0</td>\n",
       "      <td>13.000000</td>\n",
       "      <td>5.0</td>\n",
       "      <td>32.0</td>\n",
       "      <td>2.0</td>\n",
       "      <td>4000.0</td>\n",
       "      <td>2020</td>\n",
       "      <td>149</td>\n",
       "      <td>434.976167</td>\n",
       "      <td>462.418819</td>\n",
       "    </tr>\n",
       "    <tr>\n",
       "      <th>3453</th>\n",
       "      <td>1</td>\n",
       "      <td>12.83</td>\n",
       "      <td>1</td>\n",
       "      <td>0</td>\n",
       "      <td>13.000000</td>\n",
       "      <td>5.0</td>\n",
       "      <td>16.0</td>\n",
       "      <td>2.0</td>\n",
       "      <td>4000.0</td>\n",
       "      <td>2020</td>\n",
       "      <td>176</td>\n",
       "      <td>413.212193</td>\n",
       "      <td>427.999391</td>\n",
       "    </tr>\n",
       "  </tbody>\n",
       "</table>\n",
       "<p>3403 rows × 13 columns</p>\n",
       "</div>"
      ],
      "text/plain": [
       "      device_brand  screen_size  4g  5g  rear_camera_mp  front_camera_mp  \\\n",
       "0               10        14.50   1   0       13.000000              5.0   \n",
       "1               10        17.30   1   1       13.000000             16.0   \n",
       "2               10        16.69   1   1       13.000000              8.0   \n",
       "3               10        25.50   1   1       13.000000              8.0   \n",
       "4               10        15.32   1   0       13.000000              8.0   \n",
       "...            ...          ...  ..  ..             ...              ...   \n",
       "3449             3        15.34   1   0        9.460208              8.0   \n",
       "3450             3        15.24   1   0       13.000000              8.0   \n",
       "3451             1        15.80   1   0       13.000000              5.0   \n",
       "3452             1        15.80   1   0       13.000000              5.0   \n",
       "3453             1        12.83   1   0       13.000000              5.0   \n",
       "\n",
       "      internal_memory  ram  battery  release_year  days_used  \\\n",
       "0                64.0  3.0   3020.0          2020        127   \n",
       "1               128.0  8.0   4300.0          2020        325   \n",
       "2               128.0  8.0   4200.0          2020        162   \n",
       "3                64.0  6.0   7250.0          2020        345   \n",
       "4                64.0  3.0   5000.0          2020        293   \n",
       "...               ...  ...      ...           ...        ...   \n",
       "3449             64.0  6.0   5000.0          2019        232   \n",
       "3450            128.0  8.0   4000.0          2018        541   \n",
       "3451             32.0  3.0   4000.0          2020        201   \n",
       "3452             32.0  2.0   4000.0          2020        149   \n",
       "3453             16.0  2.0   4000.0          2020        176   \n",
       "\n",
       "      normalized_used_price  normalized_new_price  \n",
       "0                430.757245            471.510025  \n",
       "1                516.209665            551.901794  \n",
       "2                511.108377            588.463072  \n",
       "3                513.538659            563.096085  \n",
       "4                438.999480            494.783748  \n",
       "...                     ...                   ...  \n",
       "3449             449.233738            648.387159  \n",
       "3450             503.773152            625.153773  \n",
       "3451             435.734965            452.882895  \n",
       "3452             434.976167            462.418819  \n",
       "3453             413.212193            427.999391  \n",
       "\n",
       "[3403 rows x 13 columns]"
      ]
     },
     "execution_count": 48,
     "metadata": {},
     "output_type": "execute_result"
    }
   ],
   "source": [
    "#3.2.3 Now in this case I'm going to automatically create three columns for each type of os\n",
    "\n",
    "'''\n",
    "# Using pandas get_dummies to perform one-hot encoding\n",
    "os_encoded = pd.get_dummies(data['os'], prefix='os')\n",
    "\n",
    "# Concatenate the encoded columns back to the original dataframe\n",
    "df_encoded = pd.concat([data, os_encoded], axis=1)\n",
    "\n",
    "# Drop the original 'os' column if no longer needed\n",
    "df_encoded.drop(['os'], axis=1, inplace=True)\n",
    "\n",
    "#drop device brand\n",
    "df_encoded.drop(['device_brand'], axis=1, inplace=True)\n",
    "\n",
    "# Example usage:\n",
    "# df_encoded now contains binary columns for each category in 'os'.\n",
    "df_encoded.head()'''\n",
    "\n",
    "#Finally I won't use this method because otherwise I'll end up having 3 new features and having to remove the at the scaling step\n",
    "#Instead of I will use the straightforward approach\n",
    "data"
   ]
  },
  {
   "cell_type": "markdown",
   "metadata": {},
   "source": []
  },
  {
   "cell_type": "markdown",
   "metadata": {},
   "source": []
  },
  {
   "cell_type": "markdown",
   "metadata": {},
   "source": []
  },
  {
   "cell_type": "markdown",
   "metadata": {},
   "source": []
  },
  {
   "cell_type": "code",
   "execution_count": null,
   "metadata": {},
   "outputs": [],
   "source": []
  },
  {
   "cell_type": "code",
   "execution_count": null,
   "metadata": {},
   "outputs": [],
   "source": []
  },
  {
   "cell_type": "markdown",
   "metadata": {},
   "source": [
    "## 5 SPLITTING THE DATA"
   ]
  },
  {
   "cell_type": "code",
   "execution_count": 49,
   "metadata": {},
   "outputs": [],
   "source": [
    "#6.1 We separe our dataset into a sets, a target value and its features\n",
    "y = data['normalized_used_price']\n",
    "X = data.drop('normalized_used_price', axis=1)"
   ]
  },
  {
   "cell_type": "code",
   "execution_count": 50,
   "metadata": {},
   "outputs": [
    {
     "name": "stdout",
     "output_type": "stream",
     "text": [
      "Training set size: (2722, 12)\n",
      "Test set size: (681, 12)\n"
     ]
    }
   ],
   "source": [
    "#6.2 We split them into training and testing sets\n",
    "from sklearn.model_selection import train_test_split\n",
    "\n",
    "X_train, X_test, y_train, y_test = train_test_split(X, y, test_size=0.2, random_state=42)\n",
    "\n",
    "#6.2.2 Let's check it\n",
    "print(\"Training set size:\", X_train.shape)\n",
    "print(\"Test set size:\", X_test.shape)"
   ]
  },
  {
   "cell_type": "markdown",
   "metadata": {},
   "source": [
    "## 6 Scaling "
   ]
  },
  {
   "cell_type": "markdown",
   "metadata": {},
   "source": [
    "This step consits of converting our feature data (already numeric thanks to the normilization) into a range between 0 and 1, so that they have all the same scale and so none of them has a greater impact than the others"
   ]
  },
  {
   "cell_type": "markdown",
   "metadata": {},
   "source": [
    "The standardazion consist of modifying your data in a way that their mean becomes 0 and their std 1. Here's the algorithm\n",
    "\n",
    "\n",
    "scaler = MinMaxScaler()\n",
    "df_normalized = scaler.fit_transform(df)\n",
    "df_normalized = pd.DataFrame(df_normalized, columns=df.columns)\n",
    "print(\"Normalized data:\\n\", df_normalized)"
   ]
  },
  {
   "cell_type": "code",
   "execution_count": 51,
   "metadata": {},
   "outputs": [],
   "source": [
    "#I scale the training and testing set of our feature data\n",
    "from sklearn.preprocessing import MinMaxScaler\n",
    "\n",
    "scaler = MinMaxScaler()\n",
    "X_train = scaler.fit_transform(X_train)\n",
    "X_test = scaler.transform(X_test)"
   ]
  },
  {
   "cell_type": "code",
   "execution_count": null,
   "metadata": {},
   "outputs": [],
   "source": []
  },
  {
   "cell_type": "markdown",
   "metadata": {},
   "source": [
    "## 7 Model Selection"
   ]
  },
  {
   "cell_type": "markdown",
   "metadata": {},
   "source": [
    "Now, it's time to choose the machine learning model we want to go along with, for our prediction problem. Since it's classification problem, we will go to three algo. Then we'll choose the one with the best accuracy\n",
    "-The random forest \n",
    "-Xgboost \n",
    "-SVM"
   ]
  },
  {
   "cell_type": "code",
   "execution_count": 52,
   "metadata": {},
   "outputs": [],
   "source": [
    "#7.1 We create a dictionary of our models\n",
    "from sklearn.ensemble import RandomForestRegressor\n",
    "from sklearn.svm import SVR\n",
    "import xgboost as xgb\n",
    "\n",
    "\n",
    "models = {\n",
    "    'RandomForest' : RandomForestRegressor( random_state=42),\n",
    "    'XGB' : xgb.XGBRegressor( random_state=42), \n",
    "    'SVM' : SVR()\n",
    "}"
   ]
  },
  {
   "cell_type": "code",
   "execution_count": 53,
   "metadata": {},
   "outputs": [
    {
     "name": "stdout",
     "output_type": "stream",
     "text": [
      "the accucary of the RandomForest is : 0.8393987463666106 \n",
      "the accucary of the XGB is : 0.8174452786892275 \n",
      "the accucary of the SVM is : 0.46658479053864177 \n"
     ]
    }
   ],
   "source": [
    "#Let's use the cross validation\n",
    "\n",
    "# Define k-fold cross-validation\n",
    "from sklearn.model_selection import KFold, cross_val_score\n",
    "\n",
    "\n",
    "kfold = KFold(n_splits=5, shuffle=True, random_state=42 )\n",
    "\n",
    "# Perform cross-validation\n",
    "def cross_val_acc(models):\n",
    "    for name, model in models.items():\n",
    "        scores = cross_val_score(model, X, y, cv=kfold, scoring='r2')\n",
    "        print(f'the accucary of the {name} is : {scores.mean()} ')\n",
    "        \n",
    "cross_val_acc(models)\n",
    "\n",
    "model = models['RandomForest']"
   ]
  },
  {
   "cell_type": "markdown",
   "metadata": {},
   "source": [
    "Based on the metrics obtained we decide to move forward with the randomforest algorithm"
   ]
  },
  {
   "cell_type": "code",
   "execution_count": 54,
   "metadata": {},
   "outputs": [
    {
     "data": {
      "text/plain": [
       "\"from sklearn.metrics import r2_score\\nfrom sklearn.model_selection import cross_val_score\\n\\ndef accu(y_true, y_pred, retu = False):\\n    acc = r2_score(y_true, y_pred)\\n    if retu:\\n        return acc\\n    else:\\n        print(f'The model accuracy is :{acc}')\\nscores = cross_val_score(model, X, y, cv=kfold, scoring='r2')    \\n\\ndef models_eval(models, X_train, y_train, X_test, y_test):\\n    for name, model in models.items():\\n        print(name, ':')\\n        model.fit(X_train, y_train)\\n        accu(y_test, model.predict(X_test))\\n        print('-'*30)\\n        \\nmodels_eval(models, X_train, y_train, X_test, y_test)\""
      ]
     },
     "execution_count": 54,
     "metadata": {},
     "output_type": "execute_result"
    }
   ],
   "source": [
    "#That's another approach more straightforward but less professional\n",
    "#That consists of training and testing all the models directly and find the one who's the best\n",
    "#The disadvantage is that the model is trainned on only one set\n",
    "'''from sklearn.metrics import r2_score\n",
    "from sklearn.model_selection import cross_val_score\n",
    "\n",
    "def accu(y_true, y_pred, retu = False):\n",
    "    acc = r2_score(y_true, y_pred)\n",
    "    if retu:\n",
    "        return acc\n",
    "    else:\n",
    "        print(f'The model accuracy is :{acc}')\n",
    "scores = cross_val_score(model, X, y, cv=kfold, scoring='r2')    \n",
    "\n",
    "def models_eval(models, X_train, y_train, X_test, y_test):\n",
    "    for name, model in models.items():\n",
    "        print(name, ':')\n",
    "        model.fit(X_train, y_train)\n",
    "        accu(y_test, model.predict(X_test))\n",
    "        print('-'*30)\n",
    "        \n",
    "models_eval(models, X_train, y_train, X_test, y_test)'''"
   ]
  },
  {
   "cell_type": "markdown",
   "metadata": {},
   "source": [
    "## 8 Hyperparameter Tuning"
   ]
  },
  {
   "cell_type": "markdown",
   "metadata": {},
   "source": [
    "This step aims to improve the metric of our model by testing multiples set of values of hyperparameters, so we can find the best combination"
   ]
  },
  {
   "cell_type": "code",
   "execution_count": 55,
   "metadata": {},
   "outputs": [],
   "source": [
    "#8.1 I declare a dictionary of diferents values for each hyperparameters\n",
    "param_grid = {\n",
    "    'n_estimators': [100, 200, 300],\n",
    "    'max_depth': [None, 10, 20, 30],\n",
    "    'min_samples_split': [2, 5, 10],\n",
    "    'min_samples_leaf': [1, 2, 4],\n",
    "    'max_features': ['auto', 'sqrt']\n",
    "}"
   ]
  },
  {
   "cell_type": "code",
   "execution_count": 56,
   "metadata": {},
   "outputs": [
    {
     "name": "stdout",
     "output_type": "stream",
     "text": [
      "Fitting 5 folds for each of 216 candidates, totalling 1080 fits\n"
     ]
    },
    {
     "name": "stderr",
     "output_type": "stream",
     "text": [
      "c:\\Users\\chris.DESKTOP-GCU74DF\\AppData\\Local\\Programs\\Python\\Python312\\Lib\\site-packages\\sklearn\\model_selection\\_validation.py:425: FitFailedWarning: \n",
      "540 fits failed out of a total of 1080.\n",
      "The score on these train-test partitions for these parameters will be set to nan.\n",
      "If these failures are not expected, you can try to debug them by setting error_score='raise'.\n",
      "\n",
      "Below are more details about the failures:\n",
      "--------------------------------------------------------------------------------\n",
      "464 fits failed with the following error:\n",
      "Traceback (most recent call last):\n",
      "  File \"c:\\Users\\chris.DESKTOP-GCU74DF\\AppData\\Local\\Programs\\Python\\Python312\\Lib\\site-packages\\sklearn\\model_selection\\_validation.py\", line 729, in _fit_and_score\n",
      "    estimator.fit(X_train, y_train, **fit_params)\n",
      "  File \"c:\\Users\\chris.DESKTOP-GCU74DF\\AppData\\Local\\Programs\\Python\\Python312\\Lib\\site-packages\\sklearn\\base.py\", line 1145, in wrapper\n",
      "    estimator._validate_params()\n",
      "  File \"c:\\Users\\chris.DESKTOP-GCU74DF\\AppData\\Local\\Programs\\Python\\Python312\\Lib\\site-packages\\sklearn\\base.py\", line 638, in _validate_params\n",
      "    validate_parameter_constraints(\n",
      "  File \"c:\\Users\\chris.DESKTOP-GCU74DF\\AppData\\Local\\Programs\\Python\\Python312\\Lib\\site-packages\\sklearn\\utils\\_param_validation.py\", line 96, in validate_parameter_constraints\n",
      "    raise InvalidParameterError(\n",
      "sklearn.utils._param_validation.InvalidParameterError: The 'max_features' parameter of RandomForestRegressor must be an int in the range [1, inf), a float in the range (0.0, 1.0], a str among {'sqrt', 'log2'} or None. Got 'auto' instead.\n",
      "\n",
      "--------------------------------------------------------------------------------\n",
      "76 fits failed with the following error:\n",
      "Traceback (most recent call last):\n",
      "  File \"c:\\Users\\chris.DESKTOP-GCU74DF\\AppData\\Local\\Programs\\Python\\Python312\\Lib\\site-packages\\sklearn\\model_selection\\_validation.py\", line 729, in _fit_and_score\n",
      "    estimator.fit(X_train, y_train, **fit_params)\n",
      "  File \"c:\\Users\\chris.DESKTOP-GCU74DF\\AppData\\Local\\Programs\\Python\\Python312\\Lib\\site-packages\\sklearn\\base.py\", line 1145, in wrapper\n",
      "    estimator._validate_params()\n",
      "  File \"c:\\Users\\chris.DESKTOP-GCU74DF\\AppData\\Local\\Programs\\Python\\Python312\\Lib\\site-packages\\sklearn\\base.py\", line 638, in _validate_params\n",
      "    validate_parameter_constraints(\n",
      "  File \"c:\\Users\\chris.DESKTOP-GCU74DF\\AppData\\Local\\Programs\\Python\\Python312\\Lib\\site-packages\\sklearn\\utils\\_param_validation.py\", line 96, in validate_parameter_constraints\n",
      "    raise InvalidParameterError(\n",
      "sklearn.utils._param_validation.InvalidParameterError: The 'max_features' parameter of RandomForestRegressor must be an int in the range [1, inf), a float in the range (0.0, 1.0], a str among {'log2', 'sqrt'} or None. Got 'auto' instead.\n",
      "\n",
      "  warnings.warn(some_fits_failed_message, FitFailedWarning)\n",
      "c:\\Users\\chris.DESKTOP-GCU74DF\\AppData\\Local\\Programs\\Python\\Python312\\Lib\\site-packages\\sklearn\\model_selection\\_search.py:979: UserWarning: One or more of the test scores are non-finite: [          nan           nan           nan           nan           nan\n",
      "           nan           nan           nan           nan           nan\n",
      "           nan           nan           nan           nan           nan\n",
      "           nan           nan           nan           nan           nan\n",
      "           nan           nan           nan           nan           nan\n",
      "           nan           nan -541.06166799 -535.20968992 -534.02321984\n",
      " -537.25958705 -530.85494595 -530.70371517 -534.6018468  -532.0252502\n",
      " -533.23951854 -541.33956461 -536.72156547 -536.40096129 -541.50730263\n",
      " -536.31152772 -534.53275169 -537.83954219 -535.65572411 -534.64904527\n",
      " -547.02933874 -545.5209753  -543.84490429 -547.02933874 -545.5209753\n",
      " -543.84490429 -549.26741961 -545.70278272 -545.18747633           nan\n",
      "           nan           nan           nan           nan           nan\n",
      "           nan           nan           nan           nan           nan\n",
      "           nan           nan           nan           nan           nan\n",
      "           nan           nan           nan           nan           nan\n",
      "           nan           nan           nan           nan           nan\n",
      "           nan -535.98154412 -530.35362077 -529.27743678 -532.47093191\n",
      " -529.92452935 -528.48050967 -534.43965503 -532.98624857 -532.67461598\n",
      " -540.18013418 -533.68762102 -532.10559389 -538.99334511 -535.01427431\n",
      " -534.67795844 -536.53045369 -534.68501424 -533.83369392 -553.09257892\n",
      " -548.70142913 -546.0491336  -553.09257892 -548.70142913 -546.0491336\n",
      " -552.16275116 -547.27126742 -545.77958033           nan           nan\n",
      "           nan           nan           nan           nan           nan\n",
      "           nan           nan           nan           nan           nan\n",
      "           nan           nan           nan           nan           nan\n",
      "           nan           nan           nan           nan           nan\n",
      "           nan           nan           nan           nan           nan\n",
      " -543.08705419 -538.247657   -537.54430296 -537.07159577 -530.5869545\n",
      " -531.00311047 -534.44296585 -531.14662436 -532.67769863 -543.07727967\n",
      " -537.92678049 -536.67556868 -541.69006088 -536.75225023 -535.0123271\n",
      " -537.85799659 -535.48177103 -534.79046047 -547.09044152 -545.75340178\n",
      " -543.95138265 -547.09044152 -545.75340178 -543.95138265 -549.23376484\n",
      " -545.63288038 -545.15035215           nan           nan           nan\n",
      "           nan           nan           nan           nan           nan\n",
      "           nan           nan           nan           nan           nan\n",
      "           nan           nan           nan           nan           nan\n",
      "           nan           nan           nan           nan           nan\n",
      "           nan           nan           nan           nan -541.48144484\n",
      " -535.48690909 -534.27331609 -537.29138592 -530.93949225 -530.72730187\n",
      " -534.6018468  -532.0252502  -533.21780215 -541.33956461 -536.72156547\n",
      " -536.40096129 -541.50730263 -536.31152772 -534.53275169 -537.83954219\n",
      " -535.65572411 -534.64904527 -547.02933874 -545.5209753  -543.84490429\n",
      " -547.02933874 -545.5209753  -543.84490429 -549.26741961 -545.70278272\n",
      " -545.18747633]\n",
      "  warnings.warn(\n"
     ]
    },
    {
     "name": "stdout",
     "output_type": "stream",
     "text": [
      "Best Hyperparameters: {'max_depth': 10, 'max_features': 'sqrt', 'min_samples_leaf': 1, 'min_samples_split': 5, 'n_estimators': 300}\n",
      "The R2 score is : 0.8442080069038682\n"
     ]
    }
   ],
   "source": [
    "#8.2 We apply the algorithm that will test each combination and return the best one\n",
    "\n",
    "# Set up GridSearchCV\n",
    "from sklearn.metrics import r2_score\n",
    "from sklearn.model_selection import GridSearchCV\n",
    "\n",
    "#8.2.1 We take our algorithm and we train it on our data\n",
    "grid_search = GridSearchCV(estimator=model, param_grid=param_grid, scoring='neg_mean_squared_error', cv=kfold, verbose=1, n_jobs=-1)\n",
    "grid_search.fit(X_train, y_train)\n",
    "\n",
    "#8.2.2 We return the best hyperparameters found\n",
    "print(\"Best Hyperparameters:\", grid_search.best_params_)\n",
    "\n",
    "# Evaluate model performance\n",
    "best_model = grid_search.best_estimator_\n",
    "y_pred = best_model.predict(X_test)\n",
    "r2 = r2_score(y_test, y_pred)\n",
    "print(f\"The R2 score is : {r2}\")\n",
    "\n"
   ]
  },
  {
   "cell_type": "markdown",
   "metadata": {},
   "source": [
    "As you can see this method allowed us to improve from 0.01 our model what's not bad."
   ]
  },
  {
   "cell_type": "markdown",
   "metadata": {},
   "source": [
    "## 9 DEPLOYMENT"
   ]
  },
  {
   "cell_type": "markdown",
   "metadata": {},
   "source": [
    "This step consits of serialize our model and integrate it into an application where the user will be able to interact with it"
   ]
  },
  {
   "cell_type": "code",
   "execution_count": 57,
   "metadata": {},
   "outputs": [
    {
     "data": {
      "text/plain": [
       "['label_encoder.pkl']"
      ]
     },
     "execution_count": 57,
     "metadata": {},
     "output_type": "execute_result"
    }
   ],
   "source": [
    "#9.1 We serialize our model to a file\n",
    "import joblib\n",
    "\n",
    "joblib.dump(best_model, 'model.pkl')\n",
    "joblib.dump(scaler, 'scaler.pkl')\n",
    "joblib.dump(label_encoder, 'label_encoder.pkl')"
   ]
  },
  {
   "cell_type": "code",
   "execution_count": null,
   "metadata": {},
   "outputs": [],
   "source": []
  },
  {
   "cell_type": "code",
   "execution_count": null,
   "metadata": {},
   "outputs": [],
   "source": []
  },
  {
   "cell_type": "code",
   "execution_count": null,
   "metadata": {},
   "outputs": [],
   "source": []
  },
  {
   "cell_type": "code",
   "execution_count": null,
   "metadata": {},
   "outputs": [],
   "source": []
  },
  {
   "cell_type": "code",
   "execution_count": null,
   "metadata": {},
   "outputs": [],
   "source": []
  },
  {
   "cell_type": "code",
   "execution_count": null,
   "metadata": {},
   "outputs": [],
   "source": []
  }
 ],
 "metadata": {
  "kernelspec": {
   "display_name": "Python 3",
   "language": "python",
   "name": "python3"
  },
  "language_info": {
   "codemirror_mode": {
    "name": "ipython",
    "version": 3
   },
   "file_extension": ".py",
   "mimetype": "text/x-python",
   "name": "python",
   "nbconvert_exporter": "python",
   "pygments_lexer": "ipython3",
   "version": "3.12.1"
  }
 },
 "nbformat": 4,
 "nbformat_minor": 2
}
